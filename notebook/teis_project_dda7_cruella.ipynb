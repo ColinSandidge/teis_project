{
 "cells": [
  {
   "cell_type": "markdown",
   "id": "eb7e45f0",
   "metadata": {},
   "source": [
    "# Tennessee Early Intervention System\n",
    "\n",
    "[The Tennessee Early Intervention System (TEIS)](https://www.tn.gov/didd/for-consumers/tennessee-early-intervention-system-teis.html) is a program that provides services to children ages birth up to age three who have disabilities or other developmental delays.\n",
    "\n",
    "### Data\n",
    "1. *TEIS Referral Data for NSS pulled 7-1-22.xlsx*, shows the last known status of each child who had a referral in this time period.\n",
    "2. *TEIS Referral Data for NSS Compiled Monthly.xlsx*, is compiled monthly, which means that at the end of the month, the data manager runs a report of all referrals received the previous month and adds it to this spreadsheet. This sheet will contain multiple rows per Child ID whenever a child has multiple referrals.\n",
    "\n",
    "### Your primary objectives for this project are to explore the referrals data and search for any patterns in referrals and re-referrals. Some questions to consider are the following:\n",
    "\n",
    "* A referral is considered a \"successful\" referral if it results in an Individualized Family Service Plan (IFSP). Are there referral sources that have had higher rates of successful referrals? You can determine whether a referral was successful by looking at whether the Initial IFSP Date column is filled in or whether the Child Phase column is equal to IFSP.\n",
    "* Some areas of potential concern are POEs having a low proportion of referrals, a high average age of referrals, a low percent of total referrals resulting in an IFSP or a lower percent of eligible referrals resulting in an IFSP. How do POEs compare on these metrics, and which POEs are of concern on the basis of one or more of the listed criteria?\n",
    "* Look for patterns in referrals and re-referrals on the basis of the following:\n",
    "    - Age\n",
    "    - Referral source\n",
    "    - Socioeconomic status (County SES)\n",
    "* TEIS provides services to eligible infants and toddlers from birth to age 3. Are there any POE or service coordinators with high rates of early closure (a child exiting before reaching age 3)? For this question, only consider cases which have reached the IFSP phase.\n"
   ]
  },
  {
   "cell_type": "code",
   "execution_count": 97,
   "id": "daf68ad1",
   "metadata": {},
   "outputs": [],
   "source": [
    "import pandas as pd\n",
    "import numpy as np\n",
    "import matplotlib.pyplot as plt\n",
    "import seaborn as sns\n",
    "from datetime import date\n",
    "\n",
    "%matplotlib inline"
   ]
  },
  {
   "cell_type": "code",
   "execution_count": 15,
   "id": "06a62abd",
   "metadata": {
    "scrolled": true
   },
   "outputs": [],
   "source": [
    "teis_monthly = pd.read_excel('../data/TEIS_referral_data_monthly.xlsx')\n",
    "teis = pd.read_excel('../data/TEIS_referral_data.xlsx')"
   ]
  },
  {
   "cell_type": "code",
   "execution_count": null,
   "id": "f1c668b2",
   "metadata": {},
   "outputs": [],
   "source": [
    "teis_monthly.shape"
   ]
  },
  {
   "cell_type": "code",
   "execution_count": 16,
   "id": "f768f29e",
   "metadata": {
    "collapsed": true
   },
   "outputs": [
    {
     "data": {
      "text/plain": [
       "poe                                    object\n",
       "child_id                                int64\n",
       "dob                            datetime64[ns]\n",
       "county_name                            object\n",
       "county_ses                             object\n",
       "child_phase                            object\n",
       "active                                 object\n",
       "service_coordinator                    object\n",
       "notification/_referral_date    datetime64[ns]\n",
       "parent_consent_date            datetime64[ns]\n",
       "referral_source_type_name              object\n",
       "initial_eligibility                    object\n",
       "initial_eligibility_date               object\n",
       "initial_ifsp_date                      object\n",
       "latest_ifsp_date                       object\n",
       "exit_reason                            object\n",
       "exit_date                              object\n",
       "fiscal_year                            object\n",
       "notification_month                     object\n",
       "tenn_region                            object\n",
       "referral_count                          int64\n",
       "evaluation_count                      float64\n",
       "eligibility_count                     float64\n",
       "ifsp_count                            float64\n",
       "service_coordinator_counter             int64\n",
       "fiscal_year_1                           int64\n",
       "child_count                             int64\n",
       "2012_child_count                      float64\n",
       "2013_child_count                      float64\n",
       "third_dob                      datetime64[ns]\n",
       "late_referral                         float64\n",
       "qtr                                     int64\n",
       "_qtr_                                  object\n",
       "referral_source_category              float64\n",
       "dtype: object"
      ]
     },
     "execution_count": 16,
     "metadata": {},
     "output_type": "execute_result"
    }
   ],
   "source": [
    "teis_monthly.columns = [\n",
    "    col.strip().lower().replace(' ', '_').replace('.', '_') \n",
    "    for col in \n",
    "    teis_monthly.columns]\n",
    "teis_monthly.dtypes"
   ]
  },
  {
   "cell_type": "code",
   "execution_count": 19,
   "id": "d3069b44",
   "metadata": {
    "collapsed": true
   },
   "outputs": [
    {
     "data": {
      "text/plain": [
       "poe                                  object\n",
       "child_id                              int64\n",
       "dob                          datetime64[ns]\n",
       "county_name                          object\n",
       "county_ses                           object\n",
       "child_phase                          object\n",
       "active                               object\n",
       "service_coordinator                  object\n",
       "notification_date            datetime64[ns]\n",
       "parent_consent_date          datetime64[ns]\n",
       "referral_source_type_name            object\n",
       "initial_eligibility                  object\n",
       "initial_eligibility_date     datetime64[ns]\n",
       "initial_ifsp_date            datetime64[ns]\n",
       "latest_ifsp_date             datetime64[ns]\n",
       "exit_reason                          object\n",
       "exit_date                    datetime64[ns]\n",
       "dtype: object"
      ]
     },
     "execution_count": 19,
     "metadata": {},
     "output_type": "execute_result"
    }
   ],
   "source": [
    "teis.columns = [\n",
    "    col.strip().lower().replace(' ', '_').replace('.', '_') \n",
    "    for col in \n",
    "    teis.columns]\n",
    "teis.dtypes"
   ]
  },
  {
   "cell_type": "code",
   "execution_count": 10,
   "id": "9cbb6e42",
   "metadata": {
    "collapsed": true
   },
   "outputs": [
    {
     "data": {
      "text/html": [
       "<div>\n",
       "<style scoped>\n",
       "    .dataframe tbody tr th:only-of-type {\n",
       "        vertical-align: middle;\n",
       "    }\n",
       "\n",
       "    .dataframe tbody tr th {\n",
       "        vertical-align: top;\n",
       "    }\n",
       "\n",
       "    .dataframe thead th {\n",
       "        text-align: right;\n",
       "    }\n",
       "</style>\n",
       "<table border=\"1\" class=\"dataframe\">\n",
       "  <thead>\n",
       "    <tr style=\"text-align: right;\">\n",
       "      <th></th>\n",
       "      <th>poe</th>\n",
       "      <th>dob</th>\n",
       "      <th>county_name</th>\n",
       "      <th>county_ses</th>\n",
       "      <th>child_phase</th>\n",
       "      <th>active</th>\n",
       "      <th>service_coordinator</th>\n",
       "      <th>notification_date</th>\n",
       "      <th>parent_consent_date</th>\n",
       "      <th>referral_source_type_name</th>\n",
       "      <th>initial_eligbility</th>\n",
       "      <th>initial_eligbility_date</th>\n",
       "      <th>initial_ifsp_date</th>\n",
       "      <th>latest_ifsp_date</th>\n",
       "      <th>exit_reason</th>\n",
       "      <th>exit_date</th>\n",
       "    </tr>\n",
       "    <tr>\n",
       "      <th>child_id</th>\n",
       "      <th></th>\n",
       "      <th></th>\n",
       "      <th></th>\n",
       "      <th></th>\n",
       "      <th></th>\n",
       "      <th></th>\n",
       "      <th></th>\n",
       "      <th></th>\n",
       "      <th></th>\n",
       "      <th></th>\n",
       "      <th></th>\n",
       "      <th></th>\n",
       "      <th></th>\n",
       "      <th></th>\n",
       "      <th></th>\n",
       "      <th></th>\n",
       "    </tr>\n",
       "  </thead>\n",
       "  <tbody>\n",
       "    <tr>\n",
       "      <th>104085</th>\n",
       "      <td>GN</td>\n",
       "      <td>2007-07-07</td>\n",
       "      <td>Davidson</td>\n",
       "      <td>Competitive</td>\n",
       "      <td>Notification</td>\n",
       "      <td>I</td>\n",
       "      <td>None</td>\n",
       "      <td>2018-01-20</td>\n",
       "      <td>NaT</td>\n",
       "      <td>DCS</td>\n",
       "      <td>None</td>\n",
       "      <td>NaT</td>\n",
       "      <td>NaT</td>\n",
       "      <td>NaT</td>\n",
       "      <td>Unable to contact</td>\n",
       "      <td>2010-01-25</td>\n",
       "    </tr>\n",
       "    <tr>\n",
       "      <th>350065</th>\n",
       "      <td>UC</td>\n",
       "      <td>2013-10-15</td>\n",
       "      <td>Jackson</td>\n",
       "      <td>At-Risk</td>\n",
       "      <td>Screening</td>\n",
       "      <td>I</td>\n",
       "      <td>Steven Scarlett</td>\n",
       "      <td>2016-08-17</td>\n",
       "      <td>NaT</td>\n",
       "      <td>PCP</td>\n",
       "      <td>None</td>\n",
       "      <td>NaT</td>\n",
       "      <td>NaT</td>\n",
       "      <td>NaT</td>\n",
       "      <td>Unable to contact</td>\n",
       "      <td>2016-08-31</td>\n",
       "    </tr>\n",
       "    <tr>\n",
       "      <th>351755</th>\n",
       "      <td>NW</td>\n",
       "      <td>2013-11-13</td>\n",
       "      <td>Madison</td>\n",
       "      <td>Transitional</td>\n",
       "      <td>Eligibility</td>\n",
       "      <td>I</td>\n",
       "      <td>Rene Bard</td>\n",
       "      <td>2016-07-12</td>\n",
       "      <td>2016-07-12</td>\n",
       "      <td>Parent</td>\n",
       "      <td>Ineligible</td>\n",
       "      <td>2016-08-25</td>\n",
       "      <td>NaT</td>\n",
       "      <td>NaT</td>\n",
       "      <td>Ineligible for Part C</td>\n",
       "      <td>2016-08-25</td>\n",
       "    </tr>\n",
       "    <tr>\n",
       "      <th>353800</th>\n",
       "      <td>FT</td>\n",
       "      <td>2013-10-01</td>\n",
       "      <td>Hawkins</td>\n",
       "      <td>At-Risk</td>\n",
       "      <td>Notification</td>\n",
       "      <td>I</td>\n",
       "      <td>Jennifer Terranera - 45 days</td>\n",
       "      <td>2016-09-14</td>\n",
       "      <td>NaT</td>\n",
       "      <td>Parent</td>\n",
       "      <td>None</td>\n",
       "      <td>NaT</td>\n",
       "      <td>NaT</td>\n",
       "      <td>NaT</td>\n",
       "      <td>Referral less than 45 days</td>\n",
       "      <td>2016-09-15</td>\n",
       "    </tr>\n",
       "    <tr>\n",
       "      <th>353805</th>\n",
       "      <td>UC</td>\n",
       "      <td>2013-12-04</td>\n",
       "      <td>Putnam</td>\n",
       "      <td>Transitional</td>\n",
       "      <td>IFSP</td>\n",
       "      <td>I</td>\n",
       "      <td>Anna Bolin</td>\n",
       "      <td>2016-08-05</td>\n",
       "      <td>2016-08-15</td>\n",
       "      <td>Dept. of Health</td>\n",
       "      <td>Eligible</td>\n",
       "      <td>2016-10-05</td>\n",
       "      <td>2016-10-10</td>\n",
       "      <td>NaT</td>\n",
       "      <td>618 - Part B eligibility not determined</td>\n",
       "      <td>2016-12-03</td>\n",
       "    </tr>\n",
       "    <tr>\n",
       "      <th>...</th>\n",
       "      <td>...</td>\n",
       "      <td>...</td>\n",
       "      <td>...</td>\n",
       "      <td>...</td>\n",
       "      <td>...</td>\n",
       "      <td>...</td>\n",
       "      <td>...</td>\n",
       "      <td>...</td>\n",
       "      <td>...</td>\n",
       "      <td>...</td>\n",
       "      <td>...</td>\n",
       "      <td>...</td>\n",
       "      <td>...</td>\n",
       "      <td>...</td>\n",
       "      <td>...</td>\n",
       "      <td>...</td>\n",
       "    </tr>\n",
       "    <tr>\n",
       "      <th>531592</th>\n",
       "      <td>GN</td>\n",
       "      <td>2020-05-20</td>\n",
       "      <td>Montgomery</td>\n",
       "      <td>Transitional</td>\n",
       "      <td>Notification</td>\n",
       "      <td>A</td>\n",
       "      <td>Kim Correll</td>\n",
       "      <td>2022-07-01</td>\n",
       "      <td>NaT</td>\n",
       "      <td>PCP</td>\n",
       "      <td>None</td>\n",
       "      <td>NaT</td>\n",
       "      <td>NaT</td>\n",
       "      <td>NaT</td>\n",
       "      <td>None</td>\n",
       "      <td>NaT</td>\n",
       "    </tr>\n",
       "    <tr>\n",
       "      <th>531593</th>\n",
       "      <td>GN</td>\n",
       "      <td>2021-12-07</td>\n",
       "      <td>Davidson</td>\n",
       "      <td>Competitive</td>\n",
       "      <td>Notification</td>\n",
       "      <td>A</td>\n",
       "      <td>Kim Correll</td>\n",
       "      <td>2022-07-01</td>\n",
       "      <td>NaT</td>\n",
       "      <td>PCP</td>\n",
       "      <td>None</td>\n",
       "      <td>NaT</td>\n",
       "      <td>NaT</td>\n",
       "      <td>NaT</td>\n",
       "      <td>None</td>\n",
       "      <td>NaT</td>\n",
       "    </tr>\n",
       "    <tr>\n",
       "      <th>531594</th>\n",
       "      <td>GN</td>\n",
       "      <td>2022-06-21</td>\n",
       "      <td>Montgomery</td>\n",
       "      <td>Transitional</td>\n",
       "      <td>Notification</td>\n",
       "      <td>A</td>\n",
       "      <td>Kim Correll</td>\n",
       "      <td>2022-07-01</td>\n",
       "      <td>NaT</td>\n",
       "      <td>Other Health Care Provider</td>\n",
       "      <td>None</td>\n",
       "      <td>NaT</td>\n",
       "      <td>NaT</td>\n",
       "      <td>NaT</td>\n",
       "      <td>None</td>\n",
       "      <td>NaT</td>\n",
       "    </tr>\n",
       "    <tr>\n",
       "      <th>531595</th>\n",
       "      <td>GN</td>\n",
       "      <td>2022-06-17</td>\n",
       "      <td>Davidson</td>\n",
       "      <td>Competitive</td>\n",
       "      <td>Notification</td>\n",
       "      <td>A</td>\n",
       "      <td>Kim Correll</td>\n",
       "      <td>2022-07-01</td>\n",
       "      <td>NaT</td>\n",
       "      <td>Hospital</td>\n",
       "      <td>None</td>\n",
       "      <td>NaT</td>\n",
       "      <td>NaT</td>\n",
       "      <td>NaT</td>\n",
       "      <td>None</td>\n",
       "      <td>NaT</td>\n",
       "    </tr>\n",
       "    <tr>\n",
       "      <th>531596</th>\n",
       "      <td>SC</td>\n",
       "      <td>2019-12-26</td>\n",
       "      <td>Rutherford</td>\n",
       "      <td>Competitive</td>\n",
       "      <td>Notification</td>\n",
       "      <td>A</td>\n",
       "      <td>Kim Correll</td>\n",
       "      <td>2022-07-01</td>\n",
       "      <td>NaT</td>\n",
       "      <td>PCP</td>\n",
       "      <td>None</td>\n",
       "      <td>NaT</td>\n",
       "      <td>NaT</td>\n",
       "      <td>NaT</td>\n",
       "      <td>None</td>\n",
       "      <td>NaT</td>\n",
       "    </tr>\n",
       "  </tbody>\n",
       "</table>\n",
       "<p>96580 rows × 16 columns</p>\n",
       "</div>"
      ],
      "text/plain": [
       "         poe        dob county_name    county_ses   child_phase active  \\\n",
       "child_id                                                                 \n",
       "104085    GN 2007-07-07    Davidson   Competitive  Notification      I   \n",
       "350065    UC 2013-10-15     Jackson       At-Risk     Screening      I   \n",
       "351755    NW 2013-11-13     Madison  Transitional   Eligibility      I   \n",
       "353800    FT 2013-10-01     Hawkins       At-Risk  Notification      I   \n",
       "353805    UC 2013-12-04      Putnam  Transitional          IFSP      I   \n",
       "...       ..        ...         ...           ...           ...    ...   \n",
       "531592    GN 2020-05-20  Montgomery  Transitional  Notification      A   \n",
       "531593    GN 2021-12-07    Davidson   Competitive  Notification      A   \n",
       "531594    GN 2022-06-21  Montgomery  Transitional  Notification      A   \n",
       "531595    GN 2022-06-17    Davidson   Competitive  Notification      A   \n",
       "531596    SC 2019-12-26  Rutherford   Competitive  Notification      A   \n",
       "\n",
       "                   service_coordinator notification_date parent_consent_date  \\\n",
       "child_id                                                                       \n",
       "104085                            None        2018-01-20                 NaT   \n",
       "350065                 Steven Scarlett        2016-08-17                 NaT   \n",
       "351755                       Rene Bard        2016-07-12          2016-07-12   \n",
       "353800    Jennifer Terranera - 45 days        2016-09-14                 NaT   \n",
       "353805                      Anna Bolin        2016-08-05          2016-08-15   \n",
       "...                                ...               ...                 ...   \n",
       "531592                     Kim Correll        2022-07-01                 NaT   \n",
       "531593                     Kim Correll        2022-07-01                 NaT   \n",
       "531594                     Kim Correll        2022-07-01                 NaT   \n",
       "531595                     Kim Correll        2022-07-01                 NaT   \n",
       "531596                     Kim Correll        2022-07-01                 NaT   \n",
       "\n",
       "           referral_source_type_name initial_eligbility  \\\n",
       "child_id                                                  \n",
       "104085                           DCS               None   \n",
       "350065                           PCP               None   \n",
       "351755                        Parent         Ineligible   \n",
       "353800                        Parent               None   \n",
       "353805               Dept. of Health           Eligible   \n",
       "...                              ...                ...   \n",
       "531592                           PCP               None   \n",
       "531593                           PCP               None   \n",
       "531594    Other Health Care Provider               None   \n",
       "531595                      Hospital               None   \n",
       "531596                           PCP               None   \n",
       "\n",
       "         initial_eligbility_date initial_ifsp_date latest_ifsp_date  \\\n",
       "child_id                                                              \n",
       "104085                       NaT               NaT              NaT   \n",
       "350065                       NaT               NaT              NaT   \n",
       "351755                2016-08-25               NaT              NaT   \n",
       "353800                       NaT               NaT              NaT   \n",
       "353805                2016-10-05        2016-10-10              NaT   \n",
       "...                          ...               ...              ...   \n",
       "531592                       NaT               NaT              NaT   \n",
       "531593                       NaT               NaT              NaT   \n",
       "531594                       NaT               NaT              NaT   \n",
       "531595                       NaT               NaT              NaT   \n",
       "531596                       NaT               NaT              NaT   \n",
       "\n",
       "                                      exit_reason  exit_date  \n",
       "child_id                                                      \n",
       "104085                          Unable to contact 2010-01-25  \n",
       "350065                          Unable to contact 2016-08-31  \n",
       "351755                      Ineligible for Part C 2016-08-25  \n",
       "353800                 Referral less than 45 days 2016-09-15  \n",
       "353805    618 - Part B eligibility not determined 2016-12-03  \n",
       "...                                           ...        ...  \n",
       "531592                                       None        NaT  \n",
       "531593                                       None        NaT  \n",
       "531594                                       None        NaT  \n",
       "531595                                       None        NaT  \n",
       "531596                                       None        NaT  \n",
       "\n",
       "[96580 rows x 16 columns]"
      ]
     },
     "execution_count": 10,
     "metadata": {},
     "output_type": "execute_result"
    }
   ],
   "source": [
    "group_monthly = teis_monthly.groupby('child_id')\n",
    "group.first()"
   ]
  },
  {
   "cell_type": "code",
   "execution_count": 20,
   "id": "fccf643b",
   "metadata": {
    "collapsed": true
   },
   "outputs": [
    {
     "data": {
      "text/plain": [
       "poe\n",
       "ET    20226\n",
       "FT    11143\n",
       "GN    19956\n",
       "MD    17261\n",
       "NW     6506\n",
       "SC    14532\n",
       "SE     8575\n",
       "SW     6034\n",
       "UC     9023\n",
       "Name: child_id, dtype: int64"
      ]
     },
     "execution_count": 20,
     "metadata": {},
     "output_type": "execute_result"
    }
   ],
   "source": [
    "teis_monthly.groupby('poe')['child_id'].count()"
   ]
  },
  {
   "cell_type": "code",
   "execution_count": 21,
   "id": "841558d1",
   "metadata": {
    "collapsed": true
   },
   "outputs": [
    {
     "data": {
      "text/plain": [
       "poe  fiscal_year\n",
       "ET   2016-2017      3154\n",
       "     2017-2018      3325\n",
       "     2018-2019      3564\n",
       "     2019-2020      3383\n",
       "     2020-2021      3521\n",
       "     2021-2022      3279\n",
       "FT   2016-2017      1838\n",
       "     2017-2018      2033\n",
       "     2018-2019      2023\n",
       "     2019-2020      1844\n",
       "     2020-2021      1773\n",
       "     2021-2022      1632\n",
       "GN   2016-2017      2779\n",
       "     2017-2018      2892\n",
       "     2018-2019      3443\n",
       "     2019-2020      3441\n",
       "     2020-2021      3854\n",
       "     2021-2022      3547\n",
       "MD   2016-2017      2534\n",
       "     2017-2018      2681\n",
       "     2018-2019      3178\n",
       "     2019-2020      2722\n",
       "     2020-2021      3185\n",
       "     2021-2022      2961\n",
       "NW   2016-2017       961\n",
       "     2017-2018      1067\n",
       "     2018-2019      1103\n",
       "     2019-2020      1140\n",
       "     2020-2021      1185\n",
       "     2021-2022      1050\n",
       "SC   2016-2017      1960\n",
       "     2017-2018      2160\n",
       "     2018-2019      2522\n",
       "     2019-2020      2539\n",
       "     2020-2021      2796\n",
       "     2021-2022      2555\n",
       "SE   2016-2017      1010\n",
       "     2017-2018      1224\n",
       "     2018-2019      1610\n",
       "     2019-2020      1539\n",
       "     2020-2021      1629\n",
       "     2021-2022      1563\n",
       "SW   2016-2017       952\n",
       "     2017-2018      1048\n",
       "     2018-2019      1054\n",
       "     2019-2020       981\n",
       "     2020-2021      1022\n",
       "     2021-2022       977\n",
       "UC   2016-2017      1310\n",
       "     2017-2018      1388\n",
       "     2018-2019      1500\n",
       "     2019-2020      1394\n",
       "     2020-2021      1786\n",
       "     2021-2022      1645\n",
       "Name: child_id, dtype: int64"
      ]
     },
     "execution_count": 21,
     "metadata": {},
     "output_type": "execute_result"
    }
   ],
   "source": [
    "teis_monthly.groupby(['poe', 'fiscal_year'])['child_id'].count()"
   ]
  },
  {
   "cell_type": "code",
   "execution_count": 29,
   "id": "cdd0125e",
   "metadata": {},
   "outputs": [
    {
     "data": {
      "text/plain": [
       "15267"
      ]
     },
     "execution_count": 29,
     "metadata": {},
     "output_type": "execute_result"
    }
   ],
   "source": [
    "rereferred = teis_monthly['child_id'].value_counts() >1\n",
    "rereferred.sum()"
   ]
  },
  {
   "cell_type": "code",
   "execution_count": 31,
   "id": "d5389da8",
   "metadata": {},
   "outputs": [
    {
     "data": {
      "text/plain": [
       "0"
      ]
     },
     "execution_count": 31,
     "metadata": {},
     "output_type": "execute_result"
    }
   ],
   "source": [
    "rereferred2 = teis['child_id'].value_counts() >1\n",
    "rereferred2.sum()"
   ]
  },
  {
   "cell_type": "code",
   "execution_count": 30,
   "id": "7267072c",
   "metadata": {},
   "outputs": [
    {
     "data": {
      "text/plain": [
       "0.16078988941548183"
      ]
     },
     "execution_count": 30,
     "metadata": {},
     "output_type": "execute_result"
    }
   ],
   "source": [
    "rereferred.mean()"
   ]
  },
  {
   "cell_type": "code",
   "execution_count": 41,
   "id": "776d8cb1",
   "metadata": {},
   "outputs": [],
   "source": [
    "def reref_calc(df, proportion = False, as_percentage = False):\n",
    "    \"\"\"Use value counts over 1 to determine how many or what proportion of children get re-referrals.\"\"\"\n",
    "    if proportion:\n",
    "        calc = (df['child_id'].value_counts() > 1).mean()\n",
    "    else:\n",
    "        calc = (df['child_id'].value_counts() > 1).sum()\n",
    "    \n",
    "    if as_percentage:\n",
    "        return \"{:.2%}\".format(calc)\n",
    "    else:\n",
    "        return calc"
   ]
  },
  {
   "cell_type": "markdown",
   "id": "ccba505a",
   "metadata": {},
   "source": [
    "### What is the rate of re-referral?"
   ]
  },
  {
   "cell_type": "code",
   "execution_count": 43,
   "id": "2af0beb2",
   "metadata": {
    "scrolled": true
   },
   "outputs": [
    {
     "name": "stdout",
     "output_type": "stream",
     "text": [
      "16.08% of all children get re-referrals\n"
     ]
    }
   ],
   "source": [
    "print(reref_calc(teis_monthly, proportion = True, as_percentage = True), \"of all children get re-referrals\")"
   ]
  },
  {
   "cell_type": "markdown",
   "id": "cce995fd",
   "metadata": {},
   "source": [
    "### How many children have multiple referrals by year and by POE?"
   ]
  },
  {
   "cell_type": "markdown",
   "id": "c18353ca",
   "metadata": {},
   "source": [
    "by year"
   ]
  },
  {
   "cell_type": "code",
   "execution_count": 122,
   "id": "9d257851",
   "metadata": {
    "collapsed": true
   },
   "outputs": [
    {
     "data": {
      "text/plain": [
       "fiscal_year\n",
       "2016-2017    1347\n",
       "2017-2018    1412\n",
       "2018-2019    1398\n",
       "2019-2020    1468\n",
       "2020-2021    1681\n",
       "2021-2022    1474\n",
       "dtype: int64"
      ]
     },
     "execution_count": 122,
     "metadata": {},
     "output_type": "execute_result"
    }
   ],
   "source": [
    "ref_by_year = teis_monthly.groupby('fiscal_year').apply(reref_calc)\n",
    "ref_by_year"
   ]
  },
  {
   "cell_type": "markdown",
   "id": "88167734",
   "metadata": {},
   "source": [
    "by POE & year "
   ]
  },
  {
   "cell_type": "code",
   "execution_count": 46,
   "id": "2b175db3",
   "metadata": {
    "collapsed": true
   },
   "outputs": [
    {
     "data": {
      "text/plain": [
       "poe  fiscal_year\n",
       "ET   2016-2017      248\n",
       "     2017-2018      258\n",
       "     2018-2019      250\n",
       "     2019-2020      251\n",
       "     2020-2021      282\n",
       "     2021-2022      234\n",
       "FT   2016-2017      136\n",
       "     2017-2018      166\n",
       "     2018-2019      157\n",
       "     2019-2020      121\n",
       "     2020-2021      114\n",
       "     2021-2022      116\n",
       "GN   2016-2017      257\n",
       "     2017-2018      240\n",
       "     2018-2019      200\n",
       "     2019-2020      267\n",
       "     2020-2021      364\n",
       "     2021-2022      308\n",
       "MD   2016-2017      265\n",
       "     2017-2018      265\n",
       "     2018-2019      308\n",
       "     2019-2020      205\n",
       "     2020-2021      241\n",
       "     2021-2022      221\n",
       "NW   2016-2017       65\n",
       "     2017-2018       80\n",
       "     2018-2019       65\n",
       "     2019-2020       88\n",
       "     2020-2021       87\n",
       "     2021-2022       75\n",
       "SC   2016-2017      157\n",
       "     2017-2018      157\n",
       "     2018-2019      133\n",
       "     2019-2020      219\n",
       "     2020-2021      230\n",
       "     2021-2022      187\n",
       "SE   2016-2017       49\n",
       "     2017-2018       59\n",
       "     2018-2019       76\n",
       "     2019-2020      104\n",
       "     2020-2021       90\n",
       "     2021-2022       99\n",
       "SW   2016-2017       65\n",
       "     2017-2018       63\n",
       "     2018-2019       63\n",
       "     2019-2020       75\n",
       "     2020-2021       78\n",
       "     2021-2022       64\n",
       "UC   2016-2017       78\n",
       "     2017-2018       80\n",
       "     2018-2019       93\n",
       "     2019-2020      100\n",
       "     2020-2021      145\n",
       "     2021-2022      130\n",
       "dtype: int64"
      ]
     },
     "execution_count": 46,
     "metadata": {},
     "output_type": "execute_result"
    }
   ],
   "source": [
    "teis_monthly.groupby(['poe','fiscal_year']).apply(reref_calc).sort_index()"
   ]
  },
  {
   "cell_type": "markdown",
   "id": "7c443bc5",
   "metadata": {},
   "source": [
    "### Some areas of potential concern are POEs having a low proportion of referrals, a high average age of referrals, a low percent of total referrals resulting in an IFSP or a lower percent of eligible referrals resulting in an IFSP. How do POEs compare on these metrics, and which POEs are of concern on the basis of one or more of the listed criteria?"
   ]
  },
  {
   "cell_type": "code",
   "execution_count": 47,
   "id": "836bc0d9",
   "metadata": {
    "collapsed": true
   },
   "outputs": [
    {
     "data": {
      "text/html": [
       "<div>\n",
       "<style scoped>\n",
       "    .dataframe tbody tr th:only-of-type {\n",
       "        vertical-align: middle;\n",
       "    }\n",
       "\n",
       "    .dataframe tbody tr th {\n",
       "        vertical-align: top;\n",
       "    }\n",
       "\n",
       "    .dataframe thead th {\n",
       "        text-align: right;\n",
       "    }\n",
       "</style>\n",
       "<table border=\"1\" class=\"dataframe\">\n",
       "  <thead>\n",
       "    <tr style=\"text-align: right;\">\n",
       "      <th></th>\n",
       "      <th>poe</th>\n",
       "      <th>child_id</th>\n",
       "      <th>dob</th>\n",
       "      <th>county_name</th>\n",
       "      <th>county_ses</th>\n",
       "      <th>child_phase</th>\n",
       "      <th>active</th>\n",
       "      <th>service_coordinator</th>\n",
       "      <th>notification/_referral_date</th>\n",
       "      <th>parent_consent_date</th>\n",
       "      <th>...</th>\n",
       "      <th>service_coordinator_counter</th>\n",
       "      <th>fiscal_year_1</th>\n",
       "      <th>child_count</th>\n",
       "      <th>2012_child_count</th>\n",
       "      <th>2013_child_count</th>\n",
       "      <th>third_dob</th>\n",
       "      <th>late_referral</th>\n",
       "      <th>qtr</th>\n",
       "      <th>_qtr_</th>\n",
       "      <th>referral_source_category</th>\n",
       "    </tr>\n",
       "  </thead>\n",
       "  <tbody>\n",
       "    <tr>\n",
       "      <th>0</th>\n",
       "      <td>ET</td>\n",
       "      <td>403339</td>\n",
       "      <td>2014-08-09</td>\n",
       "      <td>Blount</td>\n",
       "      <td>Transitional</td>\n",
       "      <td>Eligibility</td>\n",
       "      <td>A</td>\n",
       "      <td>Kristi Borer</td>\n",
       "      <td>2016-07-01</td>\n",
       "      <td>2016-07-01</td>\n",
       "      <td>...</td>\n",
       "      <td>1</td>\n",
       "      <td>2016</td>\n",
       "      <td>1</td>\n",
       "      <td>NaN</td>\n",
       "      <td>NaN</td>\n",
       "      <td>2017-08-09</td>\n",
       "      <td>NaN</td>\n",
       "      <td>1</td>\n",
       "      <td>Qtr 1</td>\n",
       "      <td>NaN</td>\n",
       "    </tr>\n",
       "    <tr>\n",
       "      <th>1</th>\n",
       "      <td>FT</td>\n",
       "      <td>404085</td>\n",
       "      <td>2013-07-31</td>\n",
       "      <td>Unicoi</td>\n",
       "      <td>At-Risk</td>\n",
       "      <td>Notification</td>\n",
       "      <td>I</td>\n",
       "      <td>Jennifer Terranera - 45 days</td>\n",
       "      <td>2016-07-01</td>\n",
       "      <td>NaT</td>\n",
       "      <td>...</td>\n",
       "      <td>1</td>\n",
       "      <td>2016</td>\n",
       "      <td>1</td>\n",
       "      <td>NaN</td>\n",
       "      <td>NaN</td>\n",
       "      <td>2016-07-31</td>\n",
       "      <td>1.0</td>\n",
       "      <td>1</td>\n",
       "      <td>Qtr 1</td>\n",
       "      <td>NaN</td>\n",
       "    </tr>\n",
       "    <tr>\n",
       "      <th>2</th>\n",
       "      <td>FT</td>\n",
       "      <td>403623</td>\n",
       "      <td>2016-02-05</td>\n",
       "      <td>Sullivan</td>\n",
       "      <td>Transitional</td>\n",
       "      <td>Eligibility</td>\n",
       "      <td>A</td>\n",
       "      <td>Amy Talbert</td>\n",
       "      <td>2016-07-01</td>\n",
       "      <td>2016-07-20</td>\n",
       "      <td>...</td>\n",
       "      <td>1</td>\n",
       "      <td>2016</td>\n",
       "      <td>1</td>\n",
       "      <td>NaN</td>\n",
       "      <td>NaN</td>\n",
       "      <td>2019-02-05</td>\n",
       "      <td>NaN</td>\n",
       "      <td>1</td>\n",
       "      <td>Qtr 1</td>\n",
       "      <td>NaN</td>\n",
       "    </tr>\n",
       "    <tr>\n",
       "      <th>3</th>\n",
       "      <td>FT</td>\n",
       "      <td>404157</td>\n",
       "      <td>2015-12-06</td>\n",
       "      <td>Sullivan</td>\n",
       "      <td>Transitional</td>\n",
       "      <td>IFSP</td>\n",
       "      <td>A</td>\n",
       "      <td>Candice Cradic</td>\n",
       "      <td>2016-07-01</td>\n",
       "      <td>2016-07-22</td>\n",
       "      <td>...</td>\n",
       "      <td>1</td>\n",
       "      <td>2016</td>\n",
       "      <td>1</td>\n",
       "      <td>NaN</td>\n",
       "      <td>NaN</td>\n",
       "      <td>2018-12-06</td>\n",
       "      <td>NaN</td>\n",
       "      <td>1</td>\n",
       "      <td>Qtr 1</td>\n",
       "      <td>NaN</td>\n",
       "    </tr>\n",
       "    <tr>\n",
       "      <th>4</th>\n",
       "      <td>FT</td>\n",
       "      <td>404154</td>\n",
       "      <td>2015-04-18</td>\n",
       "      <td>Hawkins</td>\n",
       "      <td>At-Risk</td>\n",
       "      <td>IFSP</td>\n",
       "      <td>A</td>\n",
       "      <td>Kathy Jeffries</td>\n",
       "      <td>2016-07-01</td>\n",
       "      <td>2016-07-18</td>\n",
       "      <td>...</td>\n",
       "      <td>1</td>\n",
       "      <td>2016</td>\n",
       "      <td>1</td>\n",
       "      <td>NaN</td>\n",
       "      <td>NaN</td>\n",
       "      <td>2018-04-18</td>\n",
       "      <td>NaN</td>\n",
       "      <td>1</td>\n",
       "      <td>Qtr 1</td>\n",
       "      <td>NaN</td>\n",
       "    </tr>\n",
       "  </tbody>\n",
       "</table>\n",
       "<p>5 rows × 34 columns</p>\n",
       "</div>"
      ],
      "text/plain": [
       "  poe  child_id        dob county_name    county_ses   child_phase active  \\\n",
       "0  ET    403339 2014-08-09      Blount  Transitional   Eligibility      A   \n",
       "1  FT    404085 2013-07-31      Unicoi       At-Risk  Notification      I   \n",
       "2  FT    403623 2016-02-05    Sullivan  Transitional   Eligibility      A   \n",
       "3  FT    404157 2015-12-06    Sullivan  Transitional          IFSP      A   \n",
       "4  FT    404154 2015-04-18     Hawkins       At-Risk          IFSP      A   \n",
       "\n",
       "            service_coordinator notification/_referral_date  \\\n",
       "0                  Kristi Borer                  2016-07-01   \n",
       "1  Jennifer Terranera - 45 days                  2016-07-01   \n",
       "2                   Amy Talbert                  2016-07-01   \n",
       "3                Candice Cradic                  2016-07-01   \n",
       "4                Kathy Jeffries                  2016-07-01   \n",
       "\n",
       "  parent_consent_date  ... service_coordinator_counter fiscal_year_1  \\\n",
       "0          2016-07-01  ...                           1          2016   \n",
       "1                 NaT  ...                           1          2016   \n",
       "2          2016-07-20  ...                           1          2016   \n",
       "3          2016-07-22  ...                           1          2016   \n",
       "4          2016-07-18  ...                           1          2016   \n",
       "\n",
       "  child_count 2012_child_count 2013_child_count  third_dob late_referral qtr  \\\n",
       "0           1              NaN              NaN 2017-08-09           NaN   1   \n",
       "1           1              NaN              NaN 2016-07-31           1.0   1   \n",
       "2           1              NaN              NaN 2019-02-05           NaN   1   \n",
       "3           1              NaN              NaN 2018-12-06           NaN   1   \n",
       "4           1              NaN              NaN 2018-04-18           NaN   1   \n",
       "\n",
       "   _qtr_ referral_source_category  \n",
       "0  Qtr 1                      NaN  \n",
       "1  Qtr 1                      NaN  \n",
       "2  Qtr 1                      NaN  \n",
       "3  Qtr 1                      NaN  \n",
       "4  Qtr 1                      NaN  \n",
       "\n",
       "[5 rows x 34 columns]"
      ]
     },
     "execution_count": 47,
     "metadata": {},
     "output_type": "execute_result"
    }
   ],
   "source": [
    "teis_monthly.head()"
   ]
  },
  {
   "cell_type": "markdown",
   "id": "8dbddf66",
   "metadata": {},
   "source": [
    "### Low proportion of referrals by POE"
   ]
  },
  {
   "cell_type": "code",
   "execution_count": 48,
   "id": "f318fdf7",
   "metadata": {
    "collapsed": true
   },
   "outputs": [
    {
     "data": {
      "text/plain": [
       "ET    20226\n",
       "GN    19956\n",
       "MD    17261\n",
       "SC    14532\n",
       "FT    11143\n",
       "UC     9023\n",
       "SE     8575\n",
       "NW     6506\n",
       "SW     6034\n",
       "Name: poe, dtype: int64"
      ]
     },
     "execution_count": 48,
     "metadata": {},
     "output_type": "execute_result"
    }
   ],
   "source": [
    "teis_monthly['poe'].value_counts()"
   ]
  },
  {
   "cell_type": "code",
   "execution_count": 50,
   "id": "96108d0d",
   "metadata": {},
   "outputs": [
    {
     "data": {
      "text/plain": [
       "113256"
      ]
     },
     "execution_count": 50,
     "metadata": {},
     "output_type": "execute_result"
    }
   ],
   "source": [
    "teis_monthly['child_count'].sum()"
   ]
  },
  {
   "cell_type": "code",
   "execution_count": 109,
   "id": "1835d961",
   "metadata": {},
   "outputs": [
    {
     "name": "stdout",
     "output_type": "stream",
     "text": [
      "ET    17.86\n",
      "GN    17.62\n",
      "MD    15.24\n",
      "SC    12.83\n",
      "FT     9.84\n",
      "UC     7.97\n",
      "SE     7.57\n",
      "NW     5.74\n",
      "SW     5.33\n",
      "Name: poe, dtype: float64 %\n"
     ]
    }
   ],
   "source": [
    "x = (teis_monthly['poe'].value_counts()/teis_monthly['child_count'].sum())*100\n",
    "x.to_frame()\n",
    "print(round(x,2), \"%\")"
   ]
  },
  {
   "cell_type": "markdown",
   "id": "e7b788e7",
   "metadata": {},
   "source": [
    "### Average age of referrals by POE"
   ]
  },
  {
   "cell_type": "code",
   "execution_count": 120,
   "id": "9265c9b5",
   "metadata": {
    "scrolled": true
   },
   "outputs": [
    {
     "ename": "TypeError",
     "evalue": "cannot subtract DatetimeArray from ndarray",
     "output_type": "error",
     "traceback": [
      "\u001b[1;31m---------------------------------------------------------------------------\u001b[0m",
      "\u001b[1;31mTypeError\u001b[0m                                 Traceback (most recent call last)",
      "\u001b[1;32m~\\AppData\\Local\\Temp/ipykernel_102456/2544206752.py\u001b[0m in \u001b[0;36m<module>\u001b[1;34m\u001b[0m\n\u001b[1;32m----> 1\u001b[1;33m \u001b[0mteis_monthly\u001b[0m\u001b[1;33m[\u001b[0m\u001b[1;34m'exit_date_age'\u001b[0m\u001b[1;33m]\u001b[0m \u001b[1;33m=\u001b[0m \u001b[1;33m(\u001b[0m\u001b[0mteis_monthly\u001b[0m\u001b[1;33m[\u001b[0m\u001b[1;34m'exit_date'\u001b[0m\u001b[1;33m]\u001b[0m \u001b[1;33m-\u001b[0m \u001b[0mteis_monthly\u001b[0m\u001b[1;33m[\u001b[0m\u001b[1;34m'dob'\u001b[0m\u001b[1;33m]\u001b[0m\u001b[1;33m)\u001b[0m\u001b[1;33m\u001b[0m\u001b[1;33m\u001b[0m\u001b[0m\n\u001b[0m\u001b[0;32m      2\u001b[0m \u001b[0mteis_monthly\u001b[0m\u001b[1;33m\u001b[0m\u001b[1;33m\u001b[0m\u001b[0m\n",
      "\u001b[1;32m~\\anaconda3\\lib\\site-packages\\pandas\\core\\ops\\common.py\u001b[0m in \u001b[0;36mnew_method\u001b[1;34m(self, other)\u001b[0m\n\u001b[0;32m     67\u001b[0m         \u001b[0mother\u001b[0m \u001b[1;33m=\u001b[0m \u001b[0mitem_from_zerodim\u001b[0m\u001b[1;33m(\u001b[0m\u001b[0mother\u001b[0m\u001b[1;33m)\u001b[0m\u001b[1;33m\u001b[0m\u001b[1;33m\u001b[0m\u001b[0m\n\u001b[0;32m     68\u001b[0m \u001b[1;33m\u001b[0m\u001b[0m\n\u001b[1;32m---> 69\u001b[1;33m         \u001b[1;32mreturn\u001b[0m \u001b[0mmethod\u001b[0m\u001b[1;33m(\u001b[0m\u001b[0mself\u001b[0m\u001b[1;33m,\u001b[0m \u001b[0mother\u001b[0m\u001b[1;33m)\u001b[0m\u001b[1;33m\u001b[0m\u001b[1;33m\u001b[0m\u001b[0m\n\u001b[0m\u001b[0;32m     70\u001b[0m \u001b[1;33m\u001b[0m\u001b[0m\n\u001b[0;32m     71\u001b[0m     \u001b[1;32mreturn\u001b[0m \u001b[0mnew_method\u001b[0m\u001b[1;33m\u001b[0m\u001b[1;33m\u001b[0m\u001b[0m\n",
      "\u001b[1;32m~\\anaconda3\\lib\\site-packages\\pandas\\core\\arraylike.py\u001b[0m in \u001b[0;36m__sub__\u001b[1;34m(self, other)\u001b[0m\n\u001b[0;32m     98\u001b[0m     \u001b[1;33m@\u001b[0m\u001b[0munpack_zerodim_and_defer\u001b[0m\u001b[1;33m(\u001b[0m\u001b[1;34m\"__sub__\"\u001b[0m\u001b[1;33m)\u001b[0m\u001b[1;33m\u001b[0m\u001b[1;33m\u001b[0m\u001b[0m\n\u001b[0;32m     99\u001b[0m     \u001b[1;32mdef\u001b[0m \u001b[0m__sub__\u001b[0m\u001b[1;33m(\u001b[0m\u001b[0mself\u001b[0m\u001b[1;33m,\u001b[0m \u001b[0mother\u001b[0m\u001b[1;33m)\u001b[0m\u001b[1;33m:\u001b[0m\u001b[1;33m\u001b[0m\u001b[1;33m\u001b[0m\u001b[0m\n\u001b[1;32m--> 100\u001b[1;33m         \u001b[1;32mreturn\u001b[0m \u001b[0mself\u001b[0m\u001b[1;33m.\u001b[0m\u001b[0m_arith_method\u001b[0m\u001b[1;33m(\u001b[0m\u001b[0mother\u001b[0m\u001b[1;33m,\u001b[0m \u001b[0moperator\u001b[0m\u001b[1;33m.\u001b[0m\u001b[0msub\u001b[0m\u001b[1;33m)\u001b[0m\u001b[1;33m\u001b[0m\u001b[1;33m\u001b[0m\u001b[0m\n\u001b[0m\u001b[0;32m    101\u001b[0m \u001b[1;33m\u001b[0m\u001b[0m\n\u001b[0;32m    102\u001b[0m     \u001b[1;33m@\u001b[0m\u001b[0munpack_zerodim_and_defer\u001b[0m\u001b[1;33m(\u001b[0m\u001b[1;34m\"__rsub__\"\u001b[0m\u001b[1;33m)\u001b[0m\u001b[1;33m\u001b[0m\u001b[1;33m\u001b[0m\u001b[0m\n",
      "\u001b[1;32m~\\anaconda3\\lib\\site-packages\\pandas\\core\\series.py\u001b[0m in \u001b[0;36m_arith_method\u001b[1;34m(self, other, op)\u001b[0m\n\u001b[0;32m   5524\u001b[0m \u001b[1;33m\u001b[0m\u001b[0m\n\u001b[0;32m   5525\u001b[0m         \u001b[1;32mwith\u001b[0m \u001b[0mnp\u001b[0m\u001b[1;33m.\u001b[0m\u001b[0merrstate\u001b[0m\u001b[1;33m(\u001b[0m\u001b[0mall\u001b[0m\u001b[1;33m=\u001b[0m\u001b[1;34m\"ignore\"\u001b[0m\u001b[1;33m)\u001b[0m\u001b[1;33m:\u001b[0m\u001b[1;33m\u001b[0m\u001b[1;33m\u001b[0m\u001b[0m\n\u001b[1;32m-> 5526\u001b[1;33m             \u001b[0mresult\u001b[0m \u001b[1;33m=\u001b[0m \u001b[0mops\u001b[0m\u001b[1;33m.\u001b[0m\u001b[0marithmetic_op\u001b[0m\u001b[1;33m(\u001b[0m\u001b[0mlvalues\u001b[0m\u001b[1;33m,\u001b[0m \u001b[0mrvalues\u001b[0m\u001b[1;33m,\u001b[0m \u001b[0mop\u001b[0m\u001b[1;33m)\u001b[0m\u001b[1;33m\u001b[0m\u001b[1;33m\u001b[0m\u001b[0m\n\u001b[0m\u001b[0;32m   5527\u001b[0m \u001b[1;33m\u001b[0m\u001b[0m\n\u001b[0;32m   5528\u001b[0m         \u001b[1;32mreturn\u001b[0m \u001b[0mself\u001b[0m\u001b[1;33m.\u001b[0m\u001b[0m_construct_result\u001b[0m\u001b[1;33m(\u001b[0m\u001b[0mresult\u001b[0m\u001b[1;33m,\u001b[0m \u001b[0mname\u001b[0m\u001b[1;33m=\u001b[0m\u001b[0mres_name\u001b[0m\u001b[1;33m)\u001b[0m\u001b[1;33m\u001b[0m\u001b[1;33m\u001b[0m\u001b[0m\n",
      "\u001b[1;32m~\\anaconda3\\lib\\site-packages\\pandas\\core\\ops\\array_ops.py\u001b[0m in \u001b[0;36marithmetic_op\u001b[1;34m(left, right, op)\u001b[0m\n\u001b[0;32m    216\u001b[0m         \u001b[1;31m# Timedelta/Timestamp and other custom scalars are included in the check\u001b[0m\u001b[1;33m\u001b[0m\u001b[1;33m\u001b[0m\u001b[0m\n\u001b[0;32m    217\u001b[0m         \u001b[1;31m# because numexpr will fail on it, see GH#31457\u001b[0m\u001b[1;33m\u001b[0m\u001b[1;33m\u001b[0m\u001b[0m\n\u001b[1;32m--> 218\u001b[1;33m         \u001b[0mres_values\u001b[0m \u001b[1;33m=\u001b[0m \u001b[0mop\u001b[0m\u001b[1;33m(\u001b[0m\u001b[0mleft\u001b[0m\u001b[1;33m,\u001b[0m \u001b[0mright\u001b[0m\u001b[1;33m)\u001b[0m\u001b[1;33m\u001b[0m\u001b[1;33m\u001b[0m\u001b[0m\n\u001b[0m\u001b[0;32m    219\u001b[0m     \u001b[1;32melse\u001b[0m\u001b[1;33m:\u001b[0m\u001b[1;33m\u001b[0m\u001b[1;33m\u001b[0m\u001b[0m\n\u001b[0;32m    220\u001b[0m         \u001b[1;31m# TODO we should handle EAs consistently and move this check before the if/else\u001b[0m\u001b[1;33m\u001b[0m\u001b[1;33m\u001b[0m\u001b[0m\n",
      "\u001b[1;32m~\\anaconda3\\lib\\site-packages\\pandas\\core\\arrays\\datetimelike.py\u001b[0m in \u001b[0;36m__rsub__\u001b[1;34m(self, other)\u001b[0m\n\u001b[0;32m   1374\u001b[0m             \u001b[1;31m# GH#19959 datetime - datetime is well-defined as timedelta,\u001b[0m\u001b[1;33m\u001b[0m\u001b[1;33m\u001b[0m\u001b[0m\n\u001b[0;32m   1375\u001b[0m             \u001b[1;31m# but any other type - datetime is not well-defined.\u001b[0m\u001b[1;33m\u001b[0m\u001b[1;33m\u001b[0m\u001b[0m\n\u001b[1;32m-> 1376\u001b[1;33m             raise TypeError(\n\u001b[0m\u001b[0;32m   1377\u001b[0m                 \u001b[1;34mf\"cannot subtract {type(self).__name__} from {type(other).__name__}\"\u001b[0m\u001b[1;33m\u001b[0m\u001b[1;33m\u001b[0m\u001b[0m\n\u001b[0;32m   1378\u001b[0m             )\n",
      "\u001b[1;31mTypeError\u001b[0m: cannot subtract DatetimeArray from ndarray"
     ]
    }
   ],
   "source": [
    "teis_monthly['exit_date_age'] = (teis_monthly['exit_date'] - teis_monthly['dob'])\n",
    "teis_monthly"
   ]
  },
  {
   "cell_type": "code",
   "execution_count": null,
   "id": "e0763a7b",
   "metadata": {},
   "outputs": [],
   "source": [
    "teis_q3 = final_data[['DOB', 'Referral Source Type Name', 'County SES', 'POE', 'Notification Date', 'Initial IFSP Date']]\n",
    "\n",
    "teis_q3[\"Notification age\"] = teis_q3['Notification Date']- teis_q3['DOB']\n",
    "\n",
    "POE_avg_notification_age = teis_q3.groupby(['POE'])['Notification age'].mean().to_frame().reset_index()\n",
    "\n",
    "POE_avg_notification_age = POE_avg_notification_age.rename(columns = {'Notification age':'Avg_notification_age'})\n",
    "\n",
    "POE_avg_notification_age['Avg_notification_age'] = POE_avg_notification_age['Avg_notification_age'].dt.days\n",
    "\n",
    "POE_avg_notification_age['Avg_notification_age'] = pd.to_numeric(POE_avg_notification_age['Avg_notification_age'])\n",
    "\n",
    "POE_avg_notification_age['Avg_age_months'] = POE_avg_notification_age['Avg_notification_age']*0.032855\n",
    "\n",
    "sns.barplot(x = POE_avg_notification_age.POE, y = POE_avg_notification_age.Avg_age_months)\n",
    "\n",
    "teis_q3['Initial IFSP Date'] = pd.to_datetime(teis_q3['Initial IFSP Date'])"
   ]
  },
  {
   "cell_type": "code",
   "execution_count": 111,
   "id": "0ef8dc58",
   "metadata": {},
   "outputs": [
    {
     "name": "stdout",
     "output_type": "stream",
     "text": [
      "0         -8\n",
      "1        -30\n",
      "2         -4\n",
      "3         -5\n",
      "4        -17\n",
      "          ..\n",
      "113251     9\n",
      "113252    -2\n",
      "113253     5\n",
      "113254    -6\n",
      "113255     3\n",
      "Length: 113256, dtype: int64\n"
     ]
    }
   ],
   "source": [
    "age = teis_monthly['notification/_referral_date'].dt.day - teis_monthly['dob'].dt.day\n",
    "print(age)"
   ]
  },
  {
   "cell_type": "code",
   "execution_count": null,
   "id": "cfb5f2de",
   "metadata": {},
   "outputs": [],
   "source": []
  },
  {
   "cell_type": "markdown",
   "id": "b751116b",
   "metadata": {},
   "source": [
    "### Percent of total referrals resulting in an IFSP by POE"
   ]
  },
  {
   "cell_type": "code",
   "execution_count": 113,
   "id": "50ce3b75",
   "metadata": {},
   "outputs": [
    {
     "data": {
      "text/plain": [
       "False    0.929275\n",
       "True     0.070725\n",
       "Name: child_phase, dtype: float64"
      ]
     },
     "execution_count": 113,
     "metadata": {},
     "output_type": "execute_result"
    }
   ],
   "source": [
    "(teis_monthly['child_phase'] == 'IFSP').value_counts()\n",
    "(teis_monthly['child_phase'] == 'IFSP').value_counts()/ teis_monthly['child_count'].sum()"
   ]
  },
  {
   "cell_type": "code",
   "execution_count": 128,
   "id": "39f90d85",
   "metadata": {
    "scrolled": true
   },
   "outputs": [
    {
     "data": {
      "text/plain": [
       "False    52.896045\n",
       "True     47.103955\n",
       "Name: child_phase, dtype: float64"
      ]
     },
     "execution_count": 128,
     "metadata": {},
     "output_type": "execute_result"
    }
   ],
   "source": [
    "(teis['child_phase'] == 'IFSP').value_counts()\n",
    "((teis['child_phase'] == 'IFSP').value_counts()/teis['active'].count())*100"
   ]
  },
  {
   "cell_type": "code",
   "execution_count": 184,
   "id": "b431d771",
   "metadata": {},
   "outputs": [
    {
     "data": {
      "text/html": [
       "<div>\n",
       "<style scoped>\n",
       "    .dataframe tbody tr th:only-of-type {\n",
       "        vertical-align: middle;\n",
       "    }\n",
       "\n",
       "    .dataframe tbody tr th {\n",
       "        vertical-align: top;\n",
       "    }\n",
       "\n",
       "    .dataframe thead th {\n",
       "        text-align: right;\n",
       "    }\n",
       "</style>\n",
       "<table border=\"1\" class=\"dataframe\">\n",
       "  <thead>\n",
       "    <tr style=\"text-align: right;\">\n",
       "      <th></th>\n",
       "      <th>perc_IFSP</th>\n",
       "    </tr>\n",
       "    <tr>\n",
       "      <th>poe</th>\n",
       "      <th></th>\n",
       "    </tr>\n",
       "  </thead>\n",
       "  <tbody>\n",
       "    <tr>\n",
       "      <th>ET</th>\n",
       "      <td>16.741037</td>\n",
       "    </tr>\n",
       "    <tr>\n",
       "      <th>GN</th>\n",
       "      <td>16.470666</td>\n",
       "    </tr>\n",
       "    <tr>\n",
       "      <th>SC</th>\n",
       "      <td>15.400171</td>\n",
       "    </tr>\n",
       "    <tr>\n",
       "      <th>MD</th>\n",
       "      <td>13.360297</td>\n",
       "    </tr>\n",
       "    <tr>\n",
       "      <th>FT</th>\n",
       "      <td>10.390610</td>\n",
       "    </tr>\n",
       "    <tr>\n",
       "      <th>UC</th>\n",
       "      <td>9.959774</td>\n",
       "    </tr>\n",
       "    <tr>\n",
       "      <th>SE</th>\n",
       "      <td>7.530829</td>\n",
       "    </tr>\n",
       "    <tr>\n",
       "      <th>SW</th>\n",
       "      <td>5.528323</td>\n",
       "    </tr>\n",
       "    <tr>\n",
       "      <th>NW</th>\n",
       "      <td>4.618293</td>\n",
       "    </tr>\n",
       "  </tbody>\n",
       "</table>\n",
       "</div>"
      ],
      "text/plain": [
       "     perc_IFSP\n",
       "poe           \n",
       "ET   16.741037\n",
       "GN   16.470666\n",
       "SC   15.400171\n",
       "MD   13.360297\n",
       "FT   10.390610\n",
       "UC    9.959774\n",
       "SE    7.530829\n",
       "SW    5.528323\n",
       "NW    4.618293"
      ]
     },
     "execution_count": 184,
     "metadata": {},
     "output_type": "execute_result"
    }
   ],
   "source": [
    "ifsp_count = teis.loc[teis['child_phase'] == 'IFSP']\n",
    "ifsp_count = ifsp_count.groupby(ifsp_count['poe']).count().sort_values(by = 'child_id', ascending = False)\n",
    "ifsp_count = ifsp_count.drop(columns = ['dob', 'county_name', 'county_ses', 'child_phase',\n",
    "       'active', 'service_coordinator', 'notification_date',\n",
    "       'parent_consent_date', 'referral_source_type_name',\n",
    "       'initial_eligibility', 'initial_eligibility_date', 'initial_ifsp_date',\n",
    "       'latest_ifsp_date', 'exit_reason', 'exit_date'])\n",
    "ifsp_count = ifsp_count_drop.rename(columns = {'poe':'POE', 'child_id':'perc_IFSP'}) \n",
    "ifsp_count_percentage = ((ifsp_count/ifsp_count.sum())*100)\n",
    "ifsp_count_percentage"
   ]
  },
  {
   "cell_type": "code",
   "execution_count": 183,
   "id": "30b29108",
   "metadata": {},
   "outputs": [
    {
     "data": {
      "text/html": [
       "<div>\n",
       "<style scoped>\n",
       "    .dataframe tbody tr th:only-of-type {\n",
       "        vertical-align: middle;\n",
       "    }\n",
       "\n",
       "    .dataframe tbody tr th {\n",
       "        vertical-align: top;\n",
       "    }\n",
       "\n",
       "    .dataframe thead th {\n",
       "        text-align: right;\n",
       "    }\n",
       "</style>\n",
       "<table border=\"1\" class=\"dataframe\">\n",
       "  <thead>\n",
       "    <tr style=\"text-align: right;\">\n",
       "      <th></th>\n",
       "      <th>perc_IFSP</th>\n",
       "    </tr>\n",
       "    <tr>\n",
       "      <th>poe</th>\n",
       "      <th></th>\n",
       "    </tr>\n",
       "  </thead>\n",
       "  <tbody>\n",
       "    <tr>\n",
       "      <th>ET</th>\n",
       "      <td>16.741037</td>\n",
       "    </tr>\n",
       "    <tr>\n",
       "      <th>GN</th>\n",
       "      <td>16.470666</td>\n",
       "    </tr>\n",
       "    <tr>\n",
       "      <th>SC</th>\n",
       "      <td>15.400171</td>\n",
       "    </tr>\n",
       "    <tr>\n",
       "      <th>MD</th>\n",
       "      <td>13.360297</td>\n",
       "    </tr>\n",
       "    <tr>\n",
       "      <th>FT</th>\n",
       "      <td>10.390610</td>\n",
       "    </tr>\n",
       "    <tr>\n",
       "      <th>UC</th>\n",
       "      <td>9.959774</td>\n",
       "    </tr>\n",
       "    <tr>\n",
       "      <th>SE</th>\n",
       "      <td>7.530829</td>\n",
       "    </tr>\n",
       "    <tr>\n",
       "      <th>SW</th>\n",
       "      <td>5.528323</td>\n",
       "    </tr>\n",
       "    <tr>\n",
       "      <th>NW</th>\n",
       "      <td>4.618293</td>\n",
       "    </tr>\n",
       "  </tbody>\n",
       "</table>\n",
       "</div>"
      ],
      "text/plain": [
       "     perc_IFSP\n",
       "poe           \n",
       "ET   16.741037\n",
       "GN   16.470666\n",
       "SC   15.400171\n",
       "MD   13.360297\n",
       "FT   10.390610\n",
       "UC    9.959774\n",
       "SE    7.530829\n",
       "SW    5.528323\n",
       "NW    4.618293"
      ]
     },
     "execution_count": 183,
     "metadata": {},
     "output_type": "execute_result"
    }
   ],
   "source": [
    "ifsp_count_monthly = teis_monthly.loc[teis_monthly['child_phase'] == 'IFSP']\n",
    "ifsp_count_monthly = ifsp_count_monthly.groupby(ifsp_count_monthly['poe']).count().sort_values(by = 'child_id', ascending = False)\n",
    "ifsp_count_monthly = ifsp_count_monthly.drop(columns = ['dob', 'county_name', 'county_ses', 'child_phase',\n",
    "       'active', 'service_coordinator', 'notification/_referral_date',\n",
    "       'parent_consent_date', 'referral_source_type_name',\n",
    "       'initial_eligibility', 'initial_eligibility_date', 'initial_ifsp_date',\n",
    "       'latest_ifsp_date', 'exit_reason', 'exit_date', 'fiscal_year',\n",
    "       'notification_month', 'tenn_region', 'referral_count',\n",
    "       'evaluation_count', 'eligibility_count', 'ifsp_count',\n",
    "       'service_coordinator_counter', 'fiscal_year_1', 'child_count',\n",
    "       '2012_child_count', '2013_child_count', 'third_dob', 'late_referral',\n",
    "       'qtr', '_qtr_', 'referral_source_category'])\n",
    "ifsp_count_monthly = ifsp_count_drop.rename(columns = {'poe':'POE', 'child_id':'perc_IFSP'}) \n",
    "ifsp_count_monthly_percentage = ((ifsp_count_monthly/ifsp_count_monthly.sum())*100)\n",
    "ifsp_count_monthly_percentage"
   ]
  },
  {
   "cell_type": "markdown",
   "id": "b5415302",
   "metadata": {},
   "source": [
    "### Percent of eligible referrals resulting in an IFSP by POE"
   ]
  },
  {
   "cell_type": "code",
   "execution_count": 119,
   "id": "9b8b1d8b",
   "metadata": {
    "scrolled": true
   },
   "outputs": [
    {
     "data": {
      "text/plain": [
       "False    80504\n",
       "True     32752\n",
       "Name: child_phase, dtype: int64"
      ]
     },
     "execution_count": 119,
     "metadata": {},
     "output_type": "execute_result"
    }
   ],
   "source": [
    "(teis_monthly['child_phase'] == 'Eligibility').value_counts()"
   ]
  },
  {
   "cell_type": "code",
   "execution_count": null,
   "id": "44bb927e",
   "metadata": {},
   "outputs": [],
   "source": [
    "teis_monthly.groupby(['poe'](teis_monthly['child_phase'] == 'IFSP').value_counts()\n"
   ]
  }
 ],
 "metadata": {
  "kernelspec": {
   "display_name": "Python 3 (ipykernel)",
   "language": "python",
   "name": "python3"
  },
  "language_info": {
   "codemirror_mode": {
    "name": "ipython",
    "version": 3
   },
   "file_extension": ".py",
   "mimetype": "text/x-python",
   "name": "python",
   "nbconvert_exporter": "python",
   "pygments_lexer": "ipython3",
   "version": "3.9.7"
  }
 },
 "nbformat": 4,
 "nbformat_minor": 5
}
